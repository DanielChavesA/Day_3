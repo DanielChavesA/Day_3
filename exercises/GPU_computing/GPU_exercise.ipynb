{
  "nbformat": 4,
  "nbformat_minor": 0,
  "metadata": {
    "colab": {
      "provenance": [],
      "gpuType": "T4"
    },
    "kernelspec": {
      "name": "python3",
      "display_name": "Python 3"
    },
    "language_info": {
      "name": "python"
    },
    "accelerator": "GPU"
  },
  "cells": [
    {
      "cell_type": "code",
      "execution_count": 1,
      "metadata": {
        "colab": {
          "base_uri": "https://localhost:8080/"
        },
        "id": "dTFz1_3RVfFb",
        "outputId": "410c29de-e867-4708-992a-b8b9da2d8e91"
      },
      "outputs": [
        {
          "output_type": "stream",
          "name": "stdout",
          "text": [
            "Wed Mar  5 12:46:23 2025       \n",
            "+-----------------------------------------------------------------------------------------+\n",
            "| NVIDIA-SMI 550.54.15              Driver Version: 550.54.15      CUDA Version: 12.4     |\n",
            "|-----------------------------------------+------------------------+----------------------+\n",
            "| GPU  Name                 Persistence-M | Bus-Id          Disp.A | Volatile Uncorr. ECC |\n",
            "| Fan  Temp   Perf          Pwr:Usage/Cap |           Memory-Usage | GPU-Util  Compute M. |\n",
            "|                                         |                        |               MIG M. |\n",
            "|=========================================+========================+======================|\n",
            "|   0  Tesla T4                       Off |   00000000:00:04.0 Off |                    0 |\n",
            "| N/A   59C    P8             11W /   70W |       0MiB /  15360MiB |      0%      Default |\n",
            "|                                         |                        |                  N/A |\n",
            "+-----------------------------------------+------------------------+----------------------+\n",
            "                                                                                         \n",
            "+-----------------------------------------------------------------------------------------+\n",
            "| Processes:                                                                              |\n",
            "|  GPU   GI   CI        PID   Type   Process name                              GPU Memory |\n",
            "|        ID   ID                                                               Usage      |\n",
            "|=========================================================================================|\n",
            "|  No running processes found                                                             |\n",
            "+-----------------------------------------------------------------------------------------+\n"
          ]
        }
      ],
      "source": [
        "!nvidia-smi"
      ]
    },
    {
      "cell_type": "code",
      "source": [
        "!pip install cupy-cuda12x"
      ],
      "metadata": {
        "colab": {
          "base_uri": "https://localhost:8080/"
        },
        "id": "7_P495xoWELz",
        "outputId": "88735b2c-bc60-44d1-9937-d7d54fcaead2"
      },
      "execution_count": 2,
      "outputs": [
        {
          "output_type": "stream",
          "name": "stdout",
          "text": [
            "Requirement already satisfied: cupy-cuda12x in /usr/local/lib/python3.11/dist-packages (13.3.0)\n",
            "Requirement already satisfied: numpy<2.3,>=1.22 in /usr/local/lib/python3.11/dist-packages (from cupy-cuda12x) (1.26.4)\n",
            "Requirement already satisfied: fastrlock>=0.5 in /usr/local/lib/python3.11/dist-packages (from cupy-cuda12x) (0.8.3)\n"
          ]
        }
      ]
    },
    {
      "cell_type": "code",
      "source": [
        "!nvidia-smi"
      ],
      "metadata": {
        "colab": {
          "base_uri": "https://localhost:8080/"
        },
        "id": "fWFqd1W0WGvM",
        "outputId": "7fef4dd4-6022-4f0b-ef8b-798366809643"
      },
      "execution_count": 3,
      "outputs": [
        {
          "output_type": "stream",
          "name": "stdout",
          "text": [
            "Wed Mar  5 12:47:24 2025       \n",
            "+-----------------------------------------------------------------------------------------+\n",
            "| NVIDIA-SMI 550.54.15              Driver Version: 550.54.15      CUDA Version: 12.4     |\n",
            "|-----------------------------------------+------------------------+----------------------+\n",
            "| GPU  Name                 Persistence-M | Bus-Id          Disp.A | Volatile Uncorr. ECC |\n",
            "| Fan  Temp   Perf          Pwr:Usage/Cap |           Memory-Usage | GPU-Util  Compute M. |\n",
            "|                                         |                        |               MIG M. |\n",
            "|=========================================+========================+======================|\n",
            "|   0  Tesla T4                       Off |   00000000:00:04.0 Off |                    0 |\n",
            "| N/A   53C    P8             10W /   70W |       0MiB /  15360MiB |      0%      Default |\n",
            "|                                         |                        |                  N/A |\n",
            "+-----------------------------------------+------------------------+----------------------+\n",
            "                                                                                         \n",
            "+-----------------------------------------------------------------------------------------+\n",
            "| Processes:                                                                              |\n",
            "|  GPU   GI   CI        PID   Type   Process name                              GPU Memory |\n",
            "|        ID   ID                                                               Usage      |\n",
            "|=========================================================================================|\n",
            "|  No running processes found                                                             |\n",
            "+-----------------------------------------------------------------------------------------+\n"
          ]
        }
      ]
    },
    {
      "cell_type": "code",
      "source": [
        "import numpy as np\n",
        "import cupy as cp\n",
        "\n",
        "sizes = [128, 256, 512, 1024, 2048]  # Matrix sizes\n",
        "\n",
        "for size in sizes:\n",
        "    print(f\"Matrix Size: {size}x{size}\")\n",
        "\n",
        "    # Create NumPy and CuPy arrays\n",
        "    np_array = np.random.randn(size, size)\n",
        "    cp_array = cp.random.randn(size, size)\n",
        "\n",
        "    # Measure NumPy FFT speed (CPU)\n",
        "    print(\"NumPy FFT time (CPU):\")\n",
        "    %timeit np.fft.fft2(np_array)\n",
        "\n",
        "    # Measure CuPy FFT speed (GPU)\n",
        "    print(\"CuPy FFT time (GPU):\")\n",
        "    %timeit cp.fft.fft2(cp_array)\n",
        "\n",
        "    print(\"-\" * 40)"
      ],
      "metadata": {
        "colab": {
          "base_uri": "https://localhost:8080/"
        },
        "id": "EGxMSPlQWLO1",
        "outputId": "7f4653f8-5d91-4a72-b971-12866f97b70a"
      },
      "execution_count": 4,
      "outputs": [
        {
          "output_type": "stream",
          "name": "stdout",
          "text": [
            "Matrix Size: 128x128\n",
            "NumPy FFT time (CPU):\n",
            "247 µs ± 7.61 µs per loop (mean ± std. dev. of 7 runs, 1000 loops each)\n",
            "CuPy FFT time (GPU):\n",
            "146 µs ± 52.8 µs per loop (mean ± std. dev. of 7 runs, 1 loop each)\n",
            "----------------------------------------\n",
            "Matrix Size: 256x256\n",
            "NumPy FFT time (CPU):\n",
            "1.27 ms ± 243 µs per loop (mean ± std. dev. of 7 runs, 1000 loops each)\n",
            "CuPy FFT time (GPU):\n",
            "76.2 µs ± 4.54 µs per loop (mean ± std. dev. of 7 runs, 10000 loops each)\n",
            "----------------------------------------\n",
            "Matrix Size: 512x512\n",
            "NumPy FFT time (CPU):\n",
            "10.6 ms ± 2.24 ms per loop (mean ± std. dev. of 7 runs, 100 loops each)\n",
            "CuPy FFT time (GPU):\n",
            "252 µs ± 2.7 µs per loop (mean ± std. dev. of 7 runs, 1000 loops each)\n",
            "----------------------------------------\n",
            "Matrix Size: 1024x1024\n",
            "NumPy FFT time (CPU):\n",
            "34.1 ms ± 427 µs per loop (mean ± std. dev. of 7 runs, 10 loops each)\n",
            "CuPy FFT time (GPU):\n",
            "199 µs ± 77.5 µs per loop (mean ± std. dev. of 7 runs, 1 loop each)\n",
            "----------------------------------------\n",
            "Matrix Size: 2048x2048\n",
            "NumPy FFT time (CPU):\n",
            "235 ms ± 4.96 ms per loop (mean ± std. dev. of 7 runs, 1 loop each)\n",
            "CuPy FFT time (GPU):\n",
            "4.11 ms ± 34.2 µs per loop (mean ± std. dev. of 7 runs, 1000 loops each)\n",
            "----------------------------------------\n"
          ]
        }
      ]
    },
    {
      "cell_type": "code",
      "source": [
        "for size in sizes:\n",
        "    print(f\"Matrix Size: {size}x{size} (float32)\")\n",
        "\n",
        "    np_array = np.random.randn(size, size).astype(np.float32)\n",
        "    cp_array = cp.random.randn(size, size).astype(cp.float32)\n",
        "\n",
        "    print(\"NumPy FFT time (CPU) with float32:\")\n",
        "    %timeit np.fft.fft2(np_array)\n",
        "\n",
        "    print(\"CuPy FFT time (GPU) with float32:\")\n",
        "    %timeit cp.fft.fft2(cp_array)\n",
        "\n",
        "    print(\"-\" * 40)"
      ],
      "metadata": {
        "colab": {
          "base_uri": "https://localhost:8080/"
        },
        "id": "EWZOKp3fWwUC",
        "outputId": "dc7c5651-cacf-4e1e-c6c6-0882e3235d01"
      },
      "execution_count": 5,
      "outputs": [
        {
          "output_type": "stream",
          "name": "stdout",
          "text": [
            "Matrix Size: 128x128 (float32)\n",
            "NumPy FFT time (CPU) with float32:\n",
            "245 µs ± 14.4 µs per loop (mean ± std. dev. of 7 runs, 1000 loops each)\n",
            "CuPy FFT time (GPU) with float32:\n",
            "110 µs ± 54.7 µs per loop (mean ± std. dev. of 7 runs, 1 loop each)\n",
            "----------------------------------------\n",
            "Matrix Size: 256x256 (float32)\n",
            "NumPy FFT time (CPU) with float32:\n",
            "1.15 ms ± 194 µs per loop (mean ± std. dev. of 7 runs, 1000 loops each)\n",
            "CuPy FFT time (GPU) with float32:\n",
            "84.5 µs ± 14.4 µs per loop (mean ± std. dev. of 7 runs, 10000 loops each)\n",
            "----------------------------------------\n",
            "Matrix Size: 512x512 (float32)\n",
            "NumPy FFT time (CPU) with float32:\n",
            "5.91 ms ± 89.4 µs per loop (mean ± std. dev. of 7 runs, 100 loops each)\n",
            "CuPy FFT time (GPU) with float32:\n",
            "84.7 µs ± 15.9 µs per loop (mean ± std. dev. of 7 runs, 10000 loops each)\n",
            "----------------------------------------\n",
            "Matrix Size: 1024x1024 (float32)\n",
            "NumPy FFT time (CPU) with float32:\n",
            "33.8 ms ± 1.28 ms per loop (mean ± std. dev. of 7 runs, 10 loops each)\n",
            "CuPy FFT time (GPU) with float32:\n",
            "230 µs ± 658 ns per loop (mean ± std. dev. of 7 runs, 1000 loops each)\n",
            "----------------------------------------\n",
            "Matrix Size: 2048x2048 (float32)\n",
            "NumPy FFT time (CPU) with float32:\n",
            "172 ms ± 15.5 ms per loop (mean ± std. dev. of 7 runs, 10 loops each)\n",
            "CuPy FFT time (GPU) with float32:\n",
            "952 µs ± 826 ns per loop (mean ± std. dev. of 7 runs, 1000 loops each)\n",
            "----------------------------------------\n"
          ]
        }
      ]
    }
  ]
}